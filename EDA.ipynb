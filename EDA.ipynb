{
 "cells": [
  {
   "cell_type": "code",
   "execution_count": 2,
   "id": "51958bcf-d05a-4f2c-9e34-55f45e990d7f",
   "metadata": {},
   "outputs": [
    {
     "name": "stderr",
     "output_type": "stream",
     "text": [
      "/Users/lno7761/.pyenv/versions/3.9.1/lib/python3.9/site-packages/pandas/compat/__init__.py:97: UserWarning: Could not import the lzma module. Your installed Python is incomplete. Attempting to use lzma compression will result in a RuntimeError.\n",
      "  warnings.warn(msg)\n"
     ]
    },
    {
     "data": {
      "text/html": [
       "<div>\n",
       "<style scoped>\n",
       "    .dataframe tbody tr th:only-of-type {\n",
       "        vertical-align: middle;\n",
       "    }\n",
       "\n",
       "    .dataframe tbody tr th {\n",
       "        vertical-align: top;\n",
       "    }\n",
       "\n",
       "    .dataframe thead th {\n",
       "        text-align: right;\n",
       "    }\n",
       "</style>\n",
       "<table border=\"1\" class=\"dataframe\">\n",
       "  <thead>\n",
       "    <tr style=\"text-align: right;\">\n",
       "      <th></th>\n",
       "      <th>clinical_event_id</th>\n",
       "      <th>clinical_event_member_id</th>\n",
       "      <th>clinical_event_name</th>\n",
       "      <th>clinical_event_time</th>\n",
       "      <th>clinical_event_member_age</th>\n",
       "      <th>member_male</th>\n",
       "    </tr>\n",
       "  </thead>\n",
       "  <tbody>\n",
       "    <tr>\n",
       "      <th>1</th>\n",
       "      <td>1.0</td>\n",
       "      <td>1</td>\n",
       "      <td>ANNUAL VISIT</td>\n",
       "      <td>41</td>\n",
       "      <td>81</td>\n",
       "      <td>1</td>\n",
       "    </tr>\n",
       "    <tr>\n",
       "      <th>2</th>\n",
       "      <td>2.0</td>\n",
       "      <td>1</td>\n",
       "      <td>STROKE HOSPITALIZATION</td>\n",
       "      <td>641</td>\n",
       "      <td>81</td>\n",
       "      <td>1</td>\n",
       "    </tr>\n",
       "    <tr>\n",
       "      <th>3</th>\n",
       "      <td>3.0</td>\n",
       "      <td>1</td>\n",
       "      <td>HYPERTENSION MANAGEMENT VISIT</td>\n",
       "      <td>116</td>\n",
       "      <td>81</td>\n",
       "      <td>1</td>\n",
       "    </tr>\n",
       "    <tr>\n",
       "      <th>4</th>\n",
       "      <td>4.0</td>\n",
       "      <td>1</td>\n",
       "      <td>HYPERTENSION MANAGEMENT VISIT</td>\n",
       "      <td>293</td>\n",
       "      <td>81</td>\n",
       "      <td>1</td>\n",
       "    </tr>\n",
       "    <tr>\n",
       "      <th>5</th>\n",
       "      <td>5.0</td>\n",
       "      <td>2</td>\n",
       "      <td>ANNUAL VISIT</td>\n",
       "      <td>14</td>\n",
       "      <td>76</td>\n",
       "      <td>1</td>\n",
       "    </tr>\n",
       "  </tbody>\n",
       "</table>\n",
       "</div>"
      ],
      "text/plain": [
       "   clinical_event_id  clinical_event_member_id            clinical_event_name  \\\n",
       "1                1.0                         1                   ANNUAL VISIT   \n",
       "2                2.0                         1         STROKE HOSPITALIZATION   \n",
       "3                3.0                         1  HYPERTENSION MANAGEMENT VISIT   \n",
       "4                4.0                         1  HYPERTENSION MANAGEMENT VISIT   \n",
       "5                5.0                         2                   ANNUAL VISIT   \n",
       "\n",
       "   clinical_event_time  clinical_event_member_age  member_male  \n",
       "1                   41                         81            1  \n",
       "2                  641                         81            1  \n",
       "3                  116                         81            1  \n",
       "4                  293                         81            1  \n",
       "5                   14                         76            1  "
      ]
     },
     "execution_count": 2,
     "metadata": {},
     "output_type": "execute_result"
    }
   ],
   "source": [
    "import pandas as pd\n",
    "import numpy as np\n",
    "\n",
    "\n",
    "dataset = pd.read_csv(\"clinical_events.csv\",index_col=0)\n",
    "dataset.head()"
   ]
  },
  {
   "cell_type": "markdown",
   "id": "847ea7bb-a047-4163-b3d0-1e1290cb9db1",
   "metadata": {},
   "source": [
    "# Dataset attributes"
   ]
  },
  {
   "cell_type": "code",
   "execution_count": 3,
   "id": "f364ec83-e22b-4c2d-85c2-71ed6d10e510",
   "metadata": {},
   "outputs": [
    {
     "name": "stdout",
     "output_type": "stream",
     "text": [
      "shape of dataset =  (511846, 6)\n",
      "number of unique clinical_event_id =  511846\n",
      "max clinical_event_id =  511846.0\n",
      "number of unique members =  200000\n",
      "max member id =  200000\n"
     ]
    }
   ],
   "source": [
    "print(\"shape of dataset = \", dataset.shape)\n",
    "print(\"number of unique clinical_event_id = \", len(dataset.clinical_event_id.unique()))\n",
    "print(\"max clinical_event_id = \", dataset.clinical_event_id.max())\n",
    "print(\"number of unique members = \", len(dataset.clinical_event_member_id.unique()))\n",
    "print(\"max member id = \", dataset.clinical_event_member_id.max())"
   ]
  },
  {
   "cell_type": "code",
   "execution_count": 4,
   "id": "8a339b3f-d8d7-43c0-9277-4256851f2770",
   "metadata": {},
   "outputs": [
    {
     "name": "stdout",
     "output_type": "stream",
     "text": [
      "gender distribution\n",
      "\n",
      " 1    511846\n",
      "Name: member_male, dtype: int64\n",
      "clinical_event_name distribution\n",
      "\n",
      " ANNUAL VISIT                     200000\n",
      "HYPERTENSION MANAGEMENT VISIT    153326\n",
      "DIABETES MANAGEMENT VISIT         86840\n",
      "HEART FAILURE HOSPITALIZATION     33606\n",
      "STROKE HOSPITALIZATION            24821\n",
      "ATRIAL FIBRILLATION               13253\n",
      "Name: clinical_event_name, dtype: int64\n"
     ]
    }
   ],
   "source": [
    "print(\"gender distribution\\n\\n\",dataset.member_male.value_counts())\n",
    "print(\"clinical_event_name distribution\\n\\n\",dataset.clinical_event_name.value_counts())"
   ]
  },
  {
   "cell_type": "markdown",
   "id": "4f4f6479-cd0e-4098-8ee9-b8ab850f3640",
   "metadata": {},
   "source": [
    "### clinical event counts per patient"
   ]
  },
  {
   "cell_type": "code",
   "execution_count": 5,
   "id": "dc3d47c0-73fb-44ba-8de6-95e730e6f48a",
   "metadata": {},
   "outputs": [
    {
     "data": {
      "text/html": [
       "<div>\n",
       "<style scoped>\n",
       "    .dataframe tbody tr th:only-of-type {\n",
       "        vertical-align: middle;\n",
       "    }\n",
       "\n",
       "    .dataframe tbody tr th {\n",
       "        vertical-align: top;\n",
       "    }\n",
       "\n",
       "    .dataframe thead th {\n",
       "        text-align: right;\n",
       "    }\n",
       "</style>\n",
       "<table border=\"1\" class=\"dataframe\">\n",
       "  <thead>\n",
       "    <tr style=\"text-align: right;\">\n",
       "      <th></th>\n",
       "      <th>clinical_event_name</th>\n",
       "      <th>counts per patient</th>\n",
       "      <th># patients</th>\n",
       "    </tr>\n",
       "  </thead>\n",
       "  <tbody>\n",
       "    <tr>\n",
       "      <th>0</th>\n",
       "      <td>ANNUAL VISIT</td>\n",
       "      <td>1</td>\n",
       "      <td>200000</td>\n",
       "    </tr>\n",
       "    <tr>\n",
       "      <th>1</th>\n",
       "      <td>ATRIAL FIBRILLATION</td>\n",
       "      <td>1</td>\n",
       "      <td>4509</td>\n",
       "    </tr>\n",
       "    <tr>\n",
       "      <th>2</th>\n",
       "      <td>ATRIAL FIBRILLATION</td>\n",
       "      <td>2</td>\n",
       "      <td>4372</td>\n",
       "    </tr>\n",
       "    <tr>\n",
       "      <th>3</th>\n",
       "      <td>DIABETES MANAGEMENT VISIT</td>\n",
       "      <td>2</td>\n",
       "      <td>7957</td>\n",
       "    </tr>\n",
       "    <tr>\n",
       "      <th>4</th>\n",
       "      <td>DIABETES MANAGEMENT VISIT</td>\n",
       "      <td>3</td>\n",
       "      <td>7790</td>\n",
       "    </tr>\n",
       "    <tr>\n",
       "      <th>5</th>\n",
       "      <td>DIABETES MANAGEMENT VISIT</td>\n",
       "      <td>4</td>\n",
       "      <td>4305</td>\n",
       "    </tr>\n",
       "    <tr>\n",
       "      <th>6</th>\n",
       "      <td>DIABETES MANAGEMENT VISIT</td>\n",
       "      <td>1</td>\n",
       "      <td>3853</td>\n",
       "    </tr>\n",
       "    <tr>\n",
       "      <th>7</th>\n",
       "      <td>DIABETES MANAGEMENT VISIT</td>\n",
       "      <td>6</td>\n",
       "      <td>911</td>\n",
       "    </tr>\n",
       "    <tr>\n",
       "      <th>8</th>\n",
       "      <td>DIABETES MANAGEMENT VISIT</td>\n",
       "      <td>7</td>\n",
       "      <td>873</td>\n",
       "    </tr>\n",
       "    <tr>\n",
       "      <th>9</th>\n",
       "      <td>DIABETES MANAGEMENT VISIT</td>\n",
       "      <td>8</td>\n",
       "      <td>854</td>\n",
       "    </tr>\n",
       "    <tr>\n",
       "      <th>10</th>\n",
       "      <td>DIABETES MANAGEMENT VISIT</td>\n",
       "      <td>5</td>\n",
       "      <td>839</td>\n",
       "    </tr>\n",
       "    <tr>\n",
       "      <th>11</th>\n",
       "      <td>DIABETES MANAGEMENT VISIT</td>\n",
       "      <td>9</td>\n",
       "      <td>431</td>\n",
       "    </tr>\n",
       "    <tr>\n",
       "      <th>12</th>\n",
       "      <td>HEART FAILURE HOSPITALIZATION</td>\n",
       "      <td>2</td>\n",
       "      <td>6672</td>\n",
       "    </tr>\n",
       "    <tr>\n",
       "      <th>13</th>\n",
       "      <td>HEART FAILURE HOSPITALIZATION</td>\n",
       "      <td>1</td>\n",
       "      <td>5860</td>\n",
       "    </tr>\n",
       "    <tr>\n",
       "      <th>14</th>\n",
       "      <td>HEART FAILURE HOSPITALIZATION</td>\n",
       "      <td>3</td>\n",
       "      <td>1519</td>\n",
       "    </tr>\n",
       "    <tr>\n",
       "      <th>15</th>\n",
       "      <td>HEART FAILURE HOSPITALIZATION</td>\n",
       "      <td>4</td>\n",
       "      <td>1480</td>\n",
       "    </tr>\n",
       "    <tr>\n",
       "      <th>16</th>\n",
       "      <td>HEART FAILURE HOSPITALIZATION</td>\n",
       "      <td>5</td>\n",
       "      <td>785</td>\n",
       "    </tr>\n",
       "    <tr>\n",
       "      <th>17</th>\n",
       "      <td>HYPERTENSION MANAGEMENT VISIT</td>\n",
       "      <td>2</td>\n",
       "      <td>11104</td>\n",
       "    </tr>\n",
       "    <tr>\n",
       "      <th>18</th>\n",
       "      <td>HYPERTENSION MANAGEMENT VISIT</td>\n",
       "      <td>3</td>\n",
       "      <td>10844</td>\n",
       "    </tr>\n",
       "    <tr>\n",
       "      <th>19</th>\n",
       "      <td>HYPERTENSION MANAGEMENT VISIT</td>\n",
       "      <td>4</td>\n",
       "      <td>6711</td>\n",
       "    </tr>\n",
       "    <tr>\n",
       "      <th>20</th>\n",
       "      <td>HYPERTENSION MANAGEMENT VISIT</td>\n",
       "      <td>1</td>\n",
       "      <td>5431</td>\n",
       "    </tr>\n",
       "    <tr>\n",
       "      <th>21</th>\n",
       "      <td>HYPERTENSION MANAGEMENT VISIT</td>\n",
       "      <td>8</td>\n",
       "      <td>2219</td>\n",
       "    </tr>\n",
       "    <tr>\n",
       "      <th>22</th>\n",
       "      <td>HYPERTENSION MANAGEMENT VISIT</td>\n",
       "      <td>7</td>\n",
       "      <td>2204</td>\n",
       "    </tr>\n",
       "    <tr>\n",
       "      <th>23</th>\n",
       "      <td>HYPERTENSION MANAGEMENT VISIT</td>\n",
       "      <td>5</td>\n",
       "      <td>2176</td>\n",
       "    </tr>\n",
       "    <tr>\n",
       "      <th>24</th>\n",
       "      <td>HYPERTENSION MANAGEMENT VISIT</td>\n",
       "      <td>6</td>\n",
       "      <td>2123</td>\n",
       "    </tr>\n",
       "    <tr>\n",
       "      <th>25</th>\n",
       "      <td>HYPERTENSION MANAGEMENT VISIT</td>\n",
       "      <td>9</td>\n",
       "      <td>1057</td>\n",
       "    </tr>\n",
       "    <tr>\n",
       "      <th>26</th>\n",
       "      <td>STROKE HOSPITALIZATION</td>\n",
       "      <td>1</td>\n",
       "      <td>24821</td>\n",
       "    </tr>\n",
       "  </tbody>\n",
       "</table>\n",
       "</div>"
      ],
      "text/plain": [
       "              clinical_event_name  counts per patient  # patients\n",
       "0                    ANNUAL VISIT                   1      200000\n",
       "1             ATRIAL FIBRILLATION                   1        4509\n",
       "2             ATRIAL FIBRILLATION                   2        4372\n",
       "3       DIABETES MANAGEMENT VISIT                   2        7957\n",
       "4       DIABETES MANAGEMENT VISIT                   3        7790\n",
       "5       DIABETES MANAGEMENT VISIT                   4        4305\n",
       "6       DIABETES MANAGEMENT VISIT                   1        3853\n",
       "7       DIABETES MANAGEMENT VISIT                   6         911\n",
       "8       DIABETES MANAGEMENT VISIT                   7         873\n",
       "9       DIABETES MANAGEMENT VISIT                   8         854\n",
       "10      DIABETES MANAGEMENT VISIT                   5         839\n",
       "11      DIABETES MANAGEMENT VISIT                   9         431\n",
       "12  HEART FAILURE HOSPITALIZATION                   2        6672\n",
       "13  HEART FAILURE HOSPITALIZATION                   1        5860\n",
       "14  HEART FAILURE HOSPITALIZATION                   3        1519\n",
       "15  HEART FAILURE HOSPITALIZATION                   4        1480\n",
       "16  HEART FAILURE HOSPITALIZATION                   5         785\n",
       "17  HYPERTENSION MANAGEMENT VISIT                   2       11104\n",
       "18  HYPERTENSION MANAGEMENT VISIT                   3       10844\n",
       "19  HYPERTENSION MANAGEMENT VISIT                   4        6711\n",
       "20  HYPERTENSION MANAGEMENT VISIT                   1        5431\n",
       "21  HYPERTENSION MANAGEMENT VISIT                   8        2219\n",
       "22  HYPERTENSION MANAGEMENT VISIT                   7        2204\n",
       "23  HYPERTENSION MANAGEMENT VISIT                   5        2176\n",
       "24  HYPERTENSION MANAGEMENT VISIT                   6        2123\n",
       "25  HYPERTENSION MANAGEMENT VISIT                   9        1057\n",
       "26         STROKE HOSPITALIZATION                   1       24821"
      ]
     },
     "execution_count": 5,
     "metadata": {},
     "output_type": "execute_result"
    }
   ],
   "source": [
    "clinical_event_counts = pd.DataFrame(dataset.groupby(\"clinical_event_name\").clinical_event_member_id.value_counts().groupby(level=0).value_counts())\n",
    "clinical_event_counts.columns = [\"# patients\"]\n",
    "clinical_event_counts = clinical_event_counts.reset_index()\n",
    "clinical_event_counts.columns = [\"clinical_event_name\",\"counts per patient\",\"# patients\"]\n",
    "clinical_event_counts"
   ]
  },
  {
   "cell_type": "markdown",
   "id": "8dcfcb0a-8148-40bf-a7a0-e1ed5b864577",
   "metadata": {},
   "source": [
    "### number of event per patient"
   ]
  },
  {
   "cell_type": "code",
   "execution_count": 6,
   "id": "b8a09866-732e-4895-af33-4845a9a1a27f",
   "metadata": {},
   "outputs": [
    {
     "data": {
      "text/html": [
       "<div>\n",
       "<style scoped>\n",
       "    .dataframe tbody tr th:only-of-type {\n",
       "        vertical-align: middle;\n",
       "    }\n",
       "\n",
       "    .dataframe tbody tr th {\n",
       "        vertical-align: top;\n",
       "    }\n",
       "\n",
       "    .dataframe thead th {\n",
       "        text-align: right;\n",
       "    }\n",
       "</style>\n",
       "<table border=\"1\" class=\"dataframe\">\n",
       "  <thead>\n",
       "    <tr style=\"text-align: right;\">\n",
       "      <th></th>\n",
       "      <th># of events</th>\n",
       "      <th># of patients</th>\n",
       "    </tr>\n",
       "  </thead>\n",
       "  <tbody>\n",
       "    <tr>\n",
       "      <th>0</th>\n",
       "      <td>1</td>\n",
       "      <td>119351</td>\n",
       "    </tr>\n",
       "    <tr>\n",
       "      <th>1</th>\n",
       "      <td>3</td>\n",
       "      <td>19803</td>\n",
       "    </tr>\n",
       "    <tr>\n",
       "      <th>2</th>\n",
       "      <td>4</td>\n",
       "      <td>15521</td>\n",
       "    </tr>\n",
       "    <tr>\n",
       "      <th>3</th>\n",
       "      <td>2</td>\n",
       "      <td>15326</td>\n",
       "    </tr>\n",
       "    <tr>\n",
       "      <th>4</th>\n",
       "      <td>5</td>\n",
       "      <td>10053</td>\n",
       "    </tr>\n",
       "    <tr>\n",
       "      <th>5</th>\n",
       "      <td>6</td>\n",
       "      <td>3776</td>\n",
       "    </tr>\n",
       "    <tr>\n",
       "      <th>6</th>\n",
       "      <td>7</td>\n",
       "      <td>3100</td>\n",
       "    </tr>\n",
       "    <tr>\n",
       "      <th>7</th>\n",
       "      <td>8</td>\n",
       "      <td>2387</td>\n",
       "    </tr>\n",
       "    <tr>\n",
       "      <th>8</th>\n",
       "      <td>10</td>\n",
       "      <td>2269</td>\n",
       "    </tr>\n",
       "    <tr>\n",
       "      <th>9</th>\n",
       "      <td>9</td>\n",
       "      <td>2221</td>\n",
       "    </tr>\n",
       "    <tr>\n",
       "      <th>10</th>\n",
       "      <td>11</td>\n",
       "      <td>1676</td>\n",
       "    </tr>\n",
       "    <tr>\n",
       "      <th>11</th>\n",
       "      <td>12</td>\n",
       "      <td>1077</td>\n",
       "    </tr>\n",
       "    <tr>\n",
       "      <th>12</th>\n",
       "      <td>13</td>\n",
       "      <td>856</td>\n",
       "    </tr>\n",
       "    <tr>\n",
       "      <th>13</th>\n",
       "      <td>14</td>\n",
       "      <td>748</td>\n",
       "    </tr>\n",
       "    <tr>\n",
       "      <th>14</th>\n",
       "      <td>15</td>\n",
       "      <td>552</td>\n",
       "    </tr>\n",
       "    <tr>\n",
       "      <th>15</th>\n",
       "      <td>16</td>\n",
       "      <td>413</td>\n",
       "    </tr>\n",
       "    <tr>\n",
       "      <th>16</th>\n",
       "      <td>17</td>\n",
       "      <td>295</td>\n",
       "    </tr>\n",
       "    <tr>\n",
       "      <th>17</th>\n",
       "      <td>18</td>\n",
       "      <td>245</td>\n",
       "    </tr>\n",
       "    <tr>\n",
       "      <th>18</th>\n",
       "      <td>19</td>\n",
       "      <td>141</td>\n",
       "    </tr>\n",
       "    <tr>\n",
       "      <th>19</th>\n",
       "      <td>20</td>\n",
       "      <td>80</td>\n",
       "    </tr>\n",
       "    <tr>\n",
       "      <th>20</th>\n",
       "      <td>21</td>\n",
       "      <td>57</td>\n",
       "    </tr>\n",
       "    <tr>\n",
       "      <th>21</th>\n",
       "      <td>22</td>\n",
       "      <td>28</td>\n",
       "    </tr>\n",
       "    <tr>\n",
       "      <th>22</th>\n",
       "      <td>23</td>\n",
       "      <td>14</td>\n",
       "    </tr>\n",
       "    <tr>\n",
       "      <th>23</th>\n",
       "      <td>24</td>\n",
       "      <td>8</td>\n",
       "    </tr>\n",
       "    <tr>\n",
       "      <th>24</th>\n",
       "      <td>25</td>\n",
       "      <td>3</td>\n",
       "    </tr>\n",
       "  </tbody>\n",
       "</table>\n",
       "</div>"
      ],
      "text/plain": [
       "    # of events  # of patients\n",
       "0             1         119351\n",
       "1             3          19803\n",
       "2             4          15521\n",
       "3             2          15326\n",
       "4             5          10053\n",
       "5             6           3776\n",
       "6             7           3100\n",
       "7             8           2387\n",
       "8            10           2269\n",
       "9             9           2221\n",
       "10           11           1676\n",
       "11           12           1077\n",
       "12           13            856\n",
       "13           14            748\n",
       "14           15            552\n",
       "15           16            413\n",
       "16           17            295\n",
       "17           18            245\n",
       "18           19            141\n",
       "19           20             80\n",
       "20           21             57\n",
       "21           22             28\n",
       "22           23             14\n",
       "23           24              8\n",
       "24           25              3"
      ]
     },
     "execution_count": 6,
     "metadata": {},
     "output_type": "execute_result"
    }
   ],
   "source": [
    "events_per_patient = pd.DataFrame(dataset.groupby(\"clinical_event_member_id\").clinical_event_id.value_counts().groupby(level=0).value_counts().value_counts()).reset_index()\n",
    "events_per_patient.columns = [\"# of events\",\"# of patients\"]\n",
    "events_per_patient"
   ]
  },
  {
   "cell_type": "code",
   "execution_count": 7,
   "id": "adf29ff2-da54-4531-9e11-c970890d09bf",
   "metadata": {},
   "outputs": [
    {
     "data": {
      "text/plain": [
       "<AxesSubplot:ylabel='Frequency'>"
      ]
     },
     "execution_count": 7,
     "metadata": {},
     "output_type": "execute_result"
    },
    {
     "data": {
      "image/png": "[encoded data removed]",
      "text/plain": [
       "<Figure size 432x288 with 1 Axes>"
      ]
     },
     "metadata": {
      "needs_background": "light"
     },
     "output_type": "display_data"
    }
   ],
   "source": [
    "dataset.clinical_event_time.plot.hist(bins=[0,50,100,150,200,300,400,500,600])"
   ]
  },
  {
   "cell_type": "code",
   "execution_count": 8,
   "id": "4fd2793a-d6c9-4840-89ee-df837aba0eb5",
   "metadata": {},
   "outputs": [
    {
     "data": {
      "text/plain": [
       "<AxesSubplot:ylabel='Frequency'>"
      ]
     },
     "execution_count": 8,
     "metadata": {},
     "output_type": "execute_result"
    },
    {
     "data": {
      "image/png": "[encoded data removed]",
      "text/plain": [
       "<Figure size 432x288 with 1 Axes>"
      ]
     },
     "metadata": {
      "needs_background": "light"
     },
     "output_type": "display_data"
    }
   ],
   "source": [
    "tmp = dataset.groupby(\"clinical_event_member_id\").clinical_event_id.value_counts().groupby(level=0).value_counts()\n",
    "tmp = pd.DataFrame(tmp[tmp.values==1])\n",
    "#tmp.columns = tmp.columns.get_level_values(0)\n",
    "tmp = pd.DataFrame(tmp.unstack(-1).index)\n",
    "tmp = dataset.merge(tmp)\n",
    "tmp.clinical_event_time.plot.hist(bins=[0,50,100,150,300])"
   ]
  },
  {
   "cell_type": "code",
   "execution_count": 9,
   "id": "7f74615d-0695-409f-96eb-3c919bade6c9",
   "metadata": {},
   "outputs": [
    {
     "data": {
      "text/plain": [
       "<AxesSubplot:ylabel='Frequency'>"
      ]
     },
     "execution_count": 9,
     "metadata": {},
     "output_type": "execute_result"
    },
    {
     "data": {
      "image/png": "[encoded data removed]",
      "text/plain": [
       "<Figure size 432x288 with 1 Axes>"
      ]
     },
     "metadata": {
      "needs_background": "light"
     },
     "output_type": "display_data"
    }
   ],
   "source": [
    "tmp = dataset.groupby(\"clinical_event_member_id\").clinical_event_id.value_counts().groupby(level=0).value_counts()\n",
    "tmp = pd.DataFrame(tmp[tmp.values==2])\n",
    "#tmp.columns = tmp.columns.get_level_values(0)\n",
    "tmp = pd.DataFrame(tmp.unstack(-1).index)\n",
    "tmp = dataset.merge(tmp)\n",
    "tmp.clinical_event_time.plot.hist(bins=[0,50,100,150,300])"
   ]
  },
  {
   "cell_type": "code",
   "execution_count": 10,
   "id": "b8a0939e-9ae0-4be9-835b-3fd178771cb8",
   "metadata": {},
   "outputs": [],
   "source": [
    "dataset = dataset.sort_values([\"clinical_event_member_id\",\"clinical_event_time\"])\n",
    "dataset.clinical_event_time = pd.to_numeric(dataset.clinical_event_time)"
   ]
  },
  {
   "cell_type": "code",
   "execution_count": 11,
   "id": "cfad6e15-35d3-408a-b052-c18fc8558907",
   "metadata": {},
   "outputs": [],
   "source": [
    "dataset[\"consecutive_events\"]=dataset.groupby(\"clinical_event_member_id\").clinical_event_time.diff(1)"
   ]
  },
  {
   "cell_type": "code",
   "execution_count": 12,
   "id": "a9a805ce-2afe-469a-96f4-681284d9b3c5",
   "metadata": {},
   "outputs": [
    {
     "data": {
      "text/plain": [
       "<AxesSubplot:ylabel='Frequency'>"
      ]
     },
     "execution_count": 12,
     "metadata": {},
     "output_type": "execute_result"
    },
    {
     "data": {
      "image/png": "[encoded data removed]",
      "text/plain": [
       "<Figure size 432x288 with 1 Axes>"
      ]
     },
     "metadata": {
      "needs_background": "light"
     },
     "output_type": "display_data"
    }
   ],
   "source": [
    "dataset.consecutive_events.plot.hist(bins=list(range(0,730,5)))"
   ]
  },
  {
   "cell_type": "code",
   "execution_count": 13,
   "id": "61b34814-d02e-4ebe-b435-92b7da9ad253",
   "metadata": {},
   "outputs": [
    {
     "data": {
      "text/plain": [
       "<AxesSubplot:ylabel='Frequency'>"
      ]
     },
     "execution_count": 13,
     "metadata": {},
     "output_type": "execute_result"
    },
    {
     "data": {
      "image/png": "[encoded data removed]",
      "text/plain": [
       "<Figure size 432x288 with 1 Axes>"
      ]
     },
     "metadata": {
      "needs_background": "light"
     },
     "output_type": "display_data"
    }
   ],
   "source": [
    "dataset.consecutive_events.plot.hist(bins=list(range(0,730,30)))"
   ]
  }
 ],
 "metadata": {
  "kernelspec": {
   "display_name": "Python 3",
   "language": "python",
   "name": "python3"
  },
  "language_info": {
   "codemirror_mode": {
    "name": "ipython",
    "version": 3
   },
   "file_extension": ".py",
   "mimetype": "text/x-python",
   "name": "python",
   "nbconvert_exporter": "python",
   "pygments_lexer": "ipython3",
   "version": "3.9.1"
  }
 },
 "nbformat": 4,
 "nbformat_minor": 5
}
